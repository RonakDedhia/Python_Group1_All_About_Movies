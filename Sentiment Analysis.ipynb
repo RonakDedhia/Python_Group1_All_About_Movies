{
 "cells": [
  {
   "cell_type": "markdown",
   "metadata": {},
   "source": [
    "<br><H3>Feature: Building a Classification model for Film Makers to Analyze the Sentiment of the People for their Movie through Movie reviews</H3></br>\n",
    "<br></br>\n",
    "<H4>Author: Ronak Dedhia\n",
    "<br></br>\n",
    "Version: 1.0\n",
    "<br></br>\n",
    "Date: 06 October, 2018\n",
    "<br></br><br>\n",
    "Description:</H4>\n",
    "The project involves going through the 7 basic steps to building a Classification model<br>\n",
    "Step 1: Collecting Movie reviews input as individual text files and combining them into 2 lists based on the sentiment - Train and Test <br>\n",
    "Step 2: Exploratory Data Analysis to check if the distribution of comments is even in Test and Train datsets <br>\n",
    "Step 3: Outlier Treatment to better understand the dataset <br>\n",
    "Step 4: Perform Vectorization - To convert text into one large matrix of unique words with their importance scores. This matrix with scores will be used as features of the model <br>\n",
    "Step 5: Train the classifier using Logistic Regression package (Check for max. accuracy by changing hyperparameter)\n",
    "Step 6: Testing the model on test data and Evaluating it using Confusion matrix and ROC curve <br>\n",
    "Step 7: Knowing the Top 5 Positive and Negitive words used by People in their reviews  \n",
    "<br></br>\n"
   ]
  },
  {
   "cell_type": "code",
   "execution_count": 87,
   "metadata": {},
   "outputs": [],
   "source": [
    "import sys\n",
    "!{sys.executable} -m pip install --upgrade setuptools\n",
    "!{sys.executable} -m pip install --upgrade pip\n",
    "!{sys.executable} -m pip install nltk\n",
    "!{sys.executable} -m pip install sklearn\n",
    "!{sys.executable} -m pip install seaborn\n",
    "!{sys.executable} -m pip install operator\n",
    "!{sys.executable} -m pip install matplotlib\n",
    "!{sys.executable} -m pip install pandas\n",
    "!{sys.executable} -m pip insall numpy\n",
    "!{sys.executable} -m pip install tarfile"
   ]
  },
  {
   "cell_type": "code",
   "execution_count": 112,
   "metadata": {},
   "outputs": [],
   "source": [
    "#import required packages\n",
    "import tarfile\n",
    "import os\n",
    "import nltk\n",
    "import string\n",
    "import sklearn\n",
    "from sklearn import metrics\n",
    "import re\n",
    "import pandas as pd \n",
    "import numpy as np\n",
    "import matplotlib.pyplot as plt\n",
    "import seaborn as sns\n",
    "import operator\n",
    "%matplotlib inline"
   ]
  },
  {
   "cell_type": "markdown",
   "metadata": {},
   "source": [
    "<H3> Step 1: Extracting all the files in the movie_ratings compressed zip file (Do not run again) </H3>\n",
    "\n",
    "tar = tarfile.open(\"D:\\\\CMU Academic\\\\4. Python\\\\Final Project Movie\\\\movie_ratings.tar.gz\")<br>\n",
    "tar.extractall() <br>\n",
    "tar.close()  <br>\n",
    "<H4>#get list of directory names and change the folder name in python from aclImdb to movie_data</H4>\n",
    "if('aclImdb' in os.listdir(os.getcwd())):<br>\n",
    "    os.rename('aclImdb', 'movie_data')<br>\n",
    "print(os.listdir(os.getcwd()))"
   ]
  },
  {
   "cell_type": "code",
   "execution_count": 91,
   "metadata": {},
   "outputs": [],
   "source": [
    "# The extension to search for\n",
    "exten = '.txt'\n",
    "\n",
    "topdir = 'D:\\\\CMU Academic\\\\4. Python\\\\Final Project Movie\\\\Feature 2\\\\movie_data\\\\test\\\\neg'\n",
    "os.chdir(topdir)\n",
    "output_path = 'full_test_neg.txt'\n",
    "for dirpath, dirnames, files in os.walk(topdir):\n",
    "    with open(output_path, 'w', encoding='utf8') as outfile:\n",
    "        for name in files:\n",
    "            if (name == output_path):\n",
    "                continue\n",
    "            if name.lower().endswith(exten):\n",
    "                    with open(name, encoding = 'utf8') as infile:\n",
    "                        outfile.write(infile.read()+ '\\n')\n",
    "                        \n",
    "topdir = 'D:\\\\CMU Academic\\\\4. Python\\\\Final Project Movie\\\\Feature 2\\\\movie_data\\\\test\\\\pos'\n",
    "os.chdir(topdir)\n",
    "output_path = 'full_test_pos.txt'\n",
    "for dirpath, dirnames, files in os.walk(topdir):\n",
    "    with open(output_path, 'w', encoding='utf8') as outfile:\n",
    "        for name in files:\n",
    "            if (name == output_path):\n",
    "                continue\n",
    "            if name.lower().endswith(exten):\n",
    "                    with open(name, encoding = 'utf8') as infile:\n",
    "                        outfile.write(infile.read()+ '\\n')\n",
    "\n",
    "topdir = 'D:\\\\CMU Academic\\\\4. Python\\\\Final Project Movie\\\\Feature 2\\\\movie_data\\\\train\\\\neg'\n",
    "os.chdir(topdir)\n",
    "output_path = 'full_train_neg.txt'\n",
    "for dirpath, dirnames, files in os.walk(topdir):\n",
    "    with open(output_path, 'w', encoding='utf8') as outfile:\n",
    "        for name in files:\n",
    "            if (name == output_path):\n",
    "                continue\n",
    "            if name.lower().endswith(exten):\n",
    "                    with open(name, encoding = 'utf8') as infile:\n",
    "                        outfile.write(infile.read()+ '\\n')\n",
    "                        \n",
    "topdir = 'D:\\\\CMU Academic\\\\4. Python\\\\Final Project Movie\\\\Feature 2\\\\movie_data\\\\train\\\\pos'\n",
    "os.chdir(topdir)\n",
    "output_path = 'full_train_pos.txt'\n",
    "for dirpath, dirnames, files in os.walk(topdir):\n",
    "    with open(output_path, 'w', encoding='utf8') as outfile:\n",
    "        for name in files:\n",
    "            if (name == output_path):\n",
    "                continue\n",
    "            if name.lower().endswith(exten):\n",
    "                    with open(name, encoding = 'utf8') as infile:\n",
    "                        outfile.write(infile.read()+ '\\n')"
   ]
  },
  {
   "cell_type": "code",
   "execution_count": 92,
   "metadata": {},
   "outputs": [],
   "source": [
    "#Appending all training comments into a list\n",
    "reviews_train = []\n",
    "for line in open('D:/CMU Academic/4. Python/Final Project Movie/Feature 2/movie_data/train/neg/full_train_neg.txt', \n",
    "                 'r', encoding='utf8'):\n",
    "    reviews_train.append(line.strip())\n",
    "for line in open('D:/CMU Academic/4. Python/Final Project Movie/Feature 2/movie_data/train/pos/full_train_pos.txt', \n",
    "                 'r', encoding='utf8'):\n",
    "    reviews_train.append(line.strip())\n",
    "    \n",
    "reviews_test = []\n",
    "for line in open('D:/CMU Academic/4. Python/Final Project Movie/Feature 2/movie_data/test/neg/full_test_neg.txt', \n",
    "                 'r', encoding='utf8'):\n",
    "    reviews_test.append(line.strip())\n",
    "for line in open('D:/CMU Academic/4. Python/Final Project Movie/Feature 2/movie_data/test/pos/full_test_pos.txt', \n",
    "                 'r', encoding='utf8'):\n",
    "    reviews_test.append(line.strip())\n"
   ]
  },
  {
   "cell_type": "code",
   "execution_count": 93,
   "metadata": {},
   "outputs": [
    {
     "data": {
      "text/plain": [
       "\"Once again Mr. Costner has dragged out a movie for far longer than necessary. Aside from the terrific sea rescue sequences, of which there are very few I just did not care about any of the characters. Most of us have ghosts in the closet, and Costner's character are realized early on, and then forgotten until much later, by which time I did not care. The character we should really care about is a very cocky, overconfident Ashton Kutcher. The problem is he comes off as kid who thinks he's better than anyone else around him and shows no signs of a cluttered closet. His only obstacle appears to be winning over Costner. Finally when we are well past the half way point of this stinker, Costner tells us all about Kutcher's ghosts. We are told why Kutcher is driven to be the best with no prior inkling or foreshadowing. No magic here, it was all I could do to keep from turning it off an hour in.\""
      ]
     },
     "execution_count": 93,
     "metadata": {},
     "output_type": "execute_result"
    }
   ],
   "source": [
    "reviews_test[0]"
   ]
  },
  {
   "cell_type": "markdown",
   "metadata": {},
   "source": [
    "<H3> Text Filtering using Regex </H3>"
   ]
  },
  {
   "cell_type": "code",
   "execution_count": 94,
   "metadata": {},
   "outputs": [],
   "source": [
    "\n",
    "REPLACE_NO_SPACE = re.compile(\"(\\.)|(\\;)|(\\:)|(\\!)|(\\')|(\\?)|(\\,)|(\\\")|(\\()|(\\))|(\\[)|(\\])\")\n",
    "\n",
    "REPLACE_WITH_SPACE = re.compile(\"(<br\\s*/><br\\s*/>)|(\\-)|(\\/)\") #Accounts for multiple space and - and / as seperates the words\n",
    "\n",
    "def preprocess_reviews(reviews):\n",
    "    reviews = [line.lower() for line in reviews]       #MAking all words lowercase\n",
    "    reviews = [REPLACE_NO_SPACE.sub(\"\", line) for line in reviews]    #Substituting with nulls\n",
    "    reviews = [REPLACE_WITH_SPACE.sub(\" \", line) for line in reviews] # Substitutes with single space\n",
    "    \n",
    "    return reviews\n",
    "\n",
    "reviews_train_clean = preprocess_reviews(reviews_train)\n",
    "reviews_test_clean = preprocess_reviews(reviews_test)"
   ]
  },
  {
   "cell_type": "markdown",
   "metadata": {},
   "source": [
    "<H3> Step 2: Exploratory Data Analysis of Movie Reviews </H3>"
   ]
  },
  {
   "cell_type": "code",
   "execution_count": 95,
   "metadata": {},
   "outputs": [],
   "source": [
    "\n",
    "#Create 4 different dataframes for each train and test\n",
    "combine_neg_train = pd.DataFrame({ 'Type': 'Negative_Train','Comments': reviews_train_clean[:12501]}) \n",
    "combine_pos_train = pd.DataFrame({ 'Type': 'Positive_Train','Comments': reviews_train_clean[12501:]})\n",
    "combine_neg_test = pd.DataFrame({ 'Type': 'Negative_Test','Comments': reviews_test_clean[:12501]})\n",
    "combine_pos_test = pd.DataFrame({ 'Type': 'Positive_Test','Comments': reviews_test_clean[12501:]})\n",
    "\n",
    "def calculate_words(row):\n",
    "    return len(row.split())\n",
    "                                     \n",
    "combine_all = pd.concat([combine_neg_train, combine_pos_train, combine_neg_test, combine_pos_test])\n",
    "combine_all['Comments_length'] = combine_all['Comments'].apply(calculate_words)"
   ]
  },
  {
   "cell_type": "markdown",
   "metadata": {},
   "source": [
    "<H3> Step 3: Outlier Treatment & Data Cleaning</H3>\n",
    "Note 99 Percentile of the comments lie in the length of about 900 words so delete the outlier comments"
   ]
  },
  {
   "cell_type": "code",
   "execution_count": 96,
   "metadata": {},
   "outputs": [
    {
     "name": "stdout",
     "output_type": "stream",
     "text": [
      "Comments_length    904.0\n",
      "Name: 0.99, dtype: float64\n"
     ]
    }
   ],
   "source": [
    "combine_all.Comments_length.describe() \n",
    "print(combine_all.quantile(0.99)) # Most of the reviews are within 904 words limit\n",
    "\n",
    "combine_all = combine_all[combine_all < 904]"
   ]
  },
  {
   "cell_type": "markdown",
   "metadata": {},
   "source": [
    "<H3> Analyze Plots to see Equal Distribution of Comments in Positive and Negative </H3>\n",
    "We see that the length of comments for positive and negative in Train dataset is equally spread out which will lead to\n",
    "better fit of the model"
   ]
  },
  {
   "cell_type": "code",
   "execution_count": 97,
   "metadata": {},
   "outputs": [
    {
     "data": {
      "text/plain": [
       "<seaborn.axisgrid.FacetGrid at 0x1f6c1dd0>"
      ]
     },
     "execution_count": 97,
     "metadata": {},
     "output_type": "execute_result"
    },
    {
     "data": {
      "image/png": "[encoded data removed]",
      "text/plain": [
       "<Figure size 864x216 with 4 Axes>"
      ]
     },
     "metadata": {},
     "output_type": "display_data"
    }
   ],
   "source": [
    "#Plotting the ditribution of lengths in all 4 categories of comments that we have split\n",
    "g = sns.FacetGrid(data=combine_all, col='Type', col_order= ['Negative_Train', 'Negative_Test', \n",
    "                                                            'Positive_Train', 'Positive_Test'], aspect=1)\n",
    "g.map(plt.hist, 'Comments_length', bins=50, color = 'b')"
   ]
  },
  {
   "cell_type": "code",
   "execution_count": 98,
   "metadata": {},
   "outputs": [
    {
     "data": {
      "text/plain": [
       "<matplotlib.axes._subplots.AxesSubplot at 0x1f757590>"
      ]
     },
     "execution_count": 98,
     "metadata": {},
     "output_type": "execute_result"
    },
    {
     "data": {
      "image/png": "[encoded data removed]",
      "text/plain": [
       "<Figure size 432x288 with 1 Axes>"
      ]
     },
     "metadata": {},
     "output_type": "display_data"
    }
   ],
   "source": [
    "sns.boxplot(x='Type', y='Comments_length', data=combine_all)"
   ]
  },
  {
   "cell_type": "markdown",
   "metadata": {},
   "source": [
    "<H3> Step 4: Perform Vectorization - Simplest form for Classification </H3>"
   ]
  },
  {
   "cell_type": "code",
   "execution_count": 99,
   "metadata": {},
   "outputs": [],
   "source": [
    "from sklearn.feature_extraction.text import CountVectorizer\n",
    "\n",
    "#Get score for the occurence of each unique word in the training dataset to know its importance as a feature\n",
    "cv = CountVectorizer(binary=True, stop_words= 'english')\n",
    "cv.fit(reviews_train_clean)\n",
    "X = cv.transform(reviews_train_clean)\n",
    "X_test = cv.transform(reviews_test_clean)"
   ]
  },
  {
   "cell_type": "markdown",
   "metadata": {},
   "source": [
    "<H3>Step 5: Build Classifier using Logistic Regression based on training data </H3>"
   ]
  },
  {
   "cell_type": "code",
   "execution_count": 118,
   "metadata": {},
   "outputs": [
    {
     "name": "stderr",
     "output_type": "stream",
     "text": [
      "c:\\users\\ronak\\appdata\\local\\programs\\python\\python35-32\\lib\\site-packages\\sklearn\\model_selection\\_split.py:2069: FutureWarning: From version 0.21, test_size will always complement train_size unless both are specified.\n",
      "  FutureWarning)\n",
      "c:\\users\\ronak\\appdata\\local\\programs\\python\\python35-32\\lib\\site-packages\\sklearn\\linear_model\\logistic.py:432: FutureWarning: Default solver will be changed to 'lbfgs' in 0.22. Specify a solver to silence this warning.\n",
      "  FutureWarning)\n"
     ]
    },
    {
     "name": "stdout",
     "output_type": "stream",
     "text": [
      "Accuracy for C=0.01: 0.87568\n",
      "Accuracy for C=0.05: 0.88256\n",
      "Accuracy for C=0.25: 0.87968\n",
      "Accuracy for C=0.5: 0.8752\n",
      "Accuracy for C=1: 0.872\n"
     ]
    }
   ],
   "source": [
    "from sklearn.linear_model import LogisticRegression\n",
    "from sklearn.metrics import accuracy_score\n",
    "from sklearn.model_selection import train_test_split\n",
    "\n",
    "#Create a target predictor series for positive and negative\n",
    "target = []\n",
    "for i in range(25000):\n",
    "    if i > 12500:        #Since equal number of positive and negative in test and train file\n",
    "        target.append(1)\n",
    "    else: target.append(0)\n",
    "\n",
    "X_train, X_val, y_train, y_val = train_test_split( X, target, train_size = 0.75)\n",
    "\n",
    "#Trying different models by changing the hyperparameter c which adjusts the regularization\n",
    "variable_c = [0.01, 0.05, 0.25, 0.5, 1]\n",
    "for c in variable_c:\n",
    "    \n",
    "    lr = LogisticRegression(C=c)\n",
    "    lr.fit(X_train, y_train)\n",
    "    accuracy = accuracy_score(y_val, lr.predict(X_val))\n",
    "    print (\"Accuracy for C={0}: {1}\".format(c, accuracy))\n",
    "    \n",
    "#         Accuracy for C=0.01: 0.87568\n",
    "#         Accuracy for C=0.05: 0.88496\n",
    "#         Accuracy for C=0.25: 0.88336\n",
    "#         Accuracy for C=0.5: 0.87904\n",
    "#         Accuracy for C=1: 0.87472"
   ]
  },
  {
   "cell_type": "markdown",
   "metadata": {},
   "source": [
    "<H3> Step 6: Testing the Reviews in Test Dataset using model with C = 0.05 as it gives highest training accuracy of 87.76% </H3>"
   ]
  },
  {
   "cell_type": "code",
   "execution_count": 119,
   "metadata": {},
   "outputs": [
    {
     "name": "stderr",
     "output_type": "stream",
     "text": [
      "c:\\users\\ronak\\appdata\\local\\programs\\python\\python35-32\\lib\\site-packages\\sklearn\\linear_model\\logistic.py:432: FutureWarning: Default solver will be changed to 'lbfgs' in 0.22. Specify a solver to silence this warning.\n",
      "  FutureWarning)\n"
     ]
    },
    {
     "name": "stdout",
     "output_type": "stream",
     "text": [
      "Final Accuracy: 0.87764\n"
     ]
    }
   ],
   "source": [
    "final_model = LogisticRegression(C=0.05)\n",
    "final_model.fit(X, target)\n",
    "prediction = final_model.predict(X_test)\n",
    "\n",
    "accuracy_score = accuracy_score(target, prediction)  #Target can be used as same number of positive and negative comments taken in test and train\n",
    "print (\"Final Accuracy: {0}\".format(accuracy_score))\n",
    "# Final Accuracy: 0.87764"
   ]
  },
  {
   "cell_type": "markdown",
   "metadata": {},
   "source": [
    "<H3> Evaluating the Model using Confusion Matrix </H3>"
   ]
  },
  {
   "cell_type": "code",
   "execution_count": 126,
   "metadata": {},
   "outputs": [
    {
     "name": "stdout",
     "output_type": "stream",
     "text": [
      "[[10899  1602]\n",
      " [ 1457 11042]]\n",
      "\n",
      "\n",
      "              precision    recall  f1-score   support\n",
      "\n",
      "           0       0.88      0.87      0.88     12501\n",
      "           1       0.87      0.88      0.88     12499\n",
      "\n",
      "   micro avg       0.88      0.88      0.88     25000\n",
      "   macro avg       0.88      0.88      0.88     25000\n",
      "weighted avg       0.88      0.88      0.88     25000\n",
      "\n"
     ]
    }
   ],
   "source": [
    "from sklearn.metrics import confusion_matrix, classification_report\n",
    "\n",
    "print(confusion_matrix(target, prediction))\n",
    "print('\\n')\n",
    "print(classification_report(target, prediction))"
   ]
  },
  {
   "cell_type": "markdown",
   "metadata": {},
   "source": [
    "<H3> Plotting the AUC and ROC plot to visualize the accuracy"
   ]
  },
  {
   "cell_type": "code",
   "execution_count": 132,
   "metadata": {},
   "outputs": [
    {
     "data": {
      "image/png": "[encoded data removed]",
      "text/plain": [
       "<Figure size 432x288 with 1 Axes>"
      ]
     },
     "metadata": {},
     "output_type": "display_data"
    }
   ],
   "source": [
    "#Computing false and true positive rates\n",
    "fpr, tpr, thresholds = sklearn.metrics.roc_curve(prediction, target, drop_intermediate=False)\n",
    "roc_auc = sklearn.metrics.auc(fpr, tpr)\n",
    "\n",
    "plt.figure()\n",
    "#Adding the ROC\n",
    "plt.plot(fpr, tpr, color='red', lw=2, label='ROC curve (area = {0:.2f})'.format(roc_auc))\n",
    "##Random FPR and TPR\n",
    "plt.plot([0, 1], [0, 1], color='blue', lw=2, linestyle='--')\n",
    "##Title and label\n",
    "plt.xlabel('False Positive Rate')\n",
    "plt.ylabel('True Positive Rate')\n",
    "plt.title('Receiver operating characteristic')\n",
    "plt.legend(loc=\"lower right\")\n",
    "plt.show()"
   ]
  },
  {
   "cell_type": "markdown",
   "metadata": {},
   "source": [
    "<H3> Correct Prediction of a Negative Review </H3> \n",
    "Note: Though it may predict many of them as positive if strong sentiments are not conveyed"
   ]
  },
  {
   "cell_type": "code",
   "execution_count": 105,
   "metadata": {},
   "outputs": [
    {
     "name": "stdout",
     "output_type": "stream",
     "text": [
      "Negative Sentiment\n"
     ]
    }
   ],
   "source": [
    "negative_review_test = [\"Even though it is a spoof, the film is often tediously exaggerated and downright silly, \\\n",
    "                        relying on sheer buffoonery to get the narrative moving.\"]\n",
    "negative_review_transform = cv.transform(negative_review_test)\n",
    "\n",
    "prediction = final_model.predict(negative_review_transform)\n",
    "if(prediction[0] == 0):\n",
    "    print('Negative Sentiment')\n",
    "else: print('Positive Sentiment')"
   ]
  },
  {
   "cell_type": "markdown",
   "metadata": {},
   "source": [
    "<H3> Step 7: Knowing the Top 5 Good and Bad words used to classify a review as Negative or Positive Review </H3>"
   ]
  },
  {
   "cell_type": "code",
   "execution_count": 107,
   "metadata": {},
   "outputs": [
    {
     "name": "stdout",
     "output_type": "stream",
     "text": [
      "[29672  3998 35332 61278 28265]\n"
     ]
    }
   ],
   "source": [
    "coefs=final_model.coef_[0]\n",
    "top_five = np.argpartition(coefs, -5)[-5:]\n",
    "print(top_five)\n",
    "\n",
    "#Mapping the array indexes in final_model to the cv_features\n",
    "feature_map = list(zip(cv.get_feature_names(), final_model.coef_[0]))\n",
    "\n",
    "feature_to_coef = {\n",
    "    word: coef for word, coef in feature_map\n",
    "}\n"
   ]
  },
  {
   "cell_type": "code",
   "execution_count": 108,
   "metadata": {},
   "outputs": [],
   "source": [
    "import operator\n",
    "\n",
    "#Sort the dictionary to get the top five\n",
    "sorted_feature = sorted(feature_to_coef.items(), key=operator.itemgetter(1), reverse= True)"
   ]
  },
  {
   "cell_type": "code",
   "execution_count": 109,
   "metadata": {},
   "outputs": [
    {
     "name": "stdout",
     "output_type": "stream",
     "text": [
      "Positive Best Words\n",
      "('excellent', 0.9473684379032968)\n",
      "('perfect', 0.7811572191782752)\n",
      "('great', 0.6845852871870285)\n",
      "('amazing', 0.6701766735187026)\n",
      "('favorite', 0.6660101910929823)\n",
      "\n",
      "Negative Best words\n",
      "('disappointment', -0.8879549193353439)\n",
      "('poorly', -0.8977919184670279)\n",
      "('awful', -1.0583522352122747)\n",
      "('waste', -1.2272920144231492)\n",
      "('worst', -1.3595203746666376)\n"
     ]
    }
   ],
   "source": [
    "\n",
    "print(\"Positive Best Words\")\n",
    "for best_positive in sorted_feature[:5]:\n",
    "    print (best_positive)\n",
    "    \n",
    "#Print the last five features in the dictionary for top Negative words\n",
    "print(\"\\nNegative Best words\")\n",
    "for best_negative in sorted_feature[-5:]:\n",
    "    print (best_negative)\n",
    "    \n",
    "#     Positive Best Words\n",
    "# ('excellent', 0.9473684379032968)\n",
    "# ('perfect', 0.7811572191782752)\n",
    "# ('great', 0.6845852871870285)\n",
    "# ('amazing', 0.6701766735187026)\n",
    "# ('favorite', 0.6660101910929823)\n",
    "\n",
    "# Negative Best words\n",
    "# ('disappointment', -0.8879549193353439)\n",
    "# ('poorly', -0.8977919184670279)\n",
    "# ('awful', -1.0583522352122747)\n",
    "# ('waste', -1.2272920144231492)\n",
    "# ('worst', -1.3595203746666376)"
   ]
  }
 ],
 "metadata": {
  "kernelspec": {
   "display_name": "Python 3",
   "language": "python",
   "name": "python3"
  },
  "language_info": {
   "codemirror_mode": {
    "name": "ipython",
    "version": 3
   },
   "file_extension": ".py",
   "mimetype": "text/x-python",
   "name": "python",
   "nbconvert_exporter": "python",
   "pygments_lexer": "ipython3",
   "version": "3.5.4"
  }
 },
 "nbformat": 4,
 "nbformat_minor": 2
}
