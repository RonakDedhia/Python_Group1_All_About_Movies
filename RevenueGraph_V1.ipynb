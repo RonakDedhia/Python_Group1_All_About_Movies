{
 "cells": [
  {
   "cell_type": "markdown",
   "metadata": {},
   "source": [
    "# Feature: Display Graphs Comparing Genre Revenue\n",
    "Author: Susan Vagell\n",
    "Version: 1.0\n",
    "Date: 1 October 2018"
   ]
  },
  {
   "cell_type": "code",
   "execution_count": 15,
   "metadata": {},
   "outputs": [
    {
     "name": "stdout",
     "output_type": "stream",
     "text": [
      "Requirement already satisfied: pandas in c:\\users\\susan\\anaconda3\\lib\\site-packages (0.23.0)\n",
      "Requirement already satisfied: pytz>=2011k in c:\\users\\susan\\anaconda3\\lib\\site-packages (from pandas) (2018.4)\n",
      "Requirement already satisfied: numpy>=1.9.0 in c:\\users\\susan\\anaconda3\\lib\\site-packages (from pandas) (1.14.3)\n",
      "Requirement already satisfied: python-dateutil>=2.5.0 in c:\\users\\susan\\anaconda3\\lib\\site-packages (from pandas) (2.7.3)\n",
      "Requirement already satisfied: six>=1.5 in c:\\users\\susan\\anaconda3\\lib\\site-packages (from python-dateutil>=2.5.0->pandas) (1.11.0)\n",
      "Requirement already satisfied: datetime in c:\\users\\susan\\anaconda3\\lib\\site-packages (4.2)\n",
      "Requirement already satisfied: zope.interface in c:\\users\\susan\\anaconda3\\lib\\site-packages (from datetime) (4.5.0)\n",
      "Requirement already satisfied: pytz in c:\\users\\susan\\anaconda3\\lib\\site-packages (from datetime) (2018.4)\n",
      "Requirement already satisfied: setuptools in c:\\users\\susan\\anaconda3\\lib\\site-packages (from zope.interface->datetime) (39.1.0)\n",
      "Requirement already satisfied: bs4 in c:\\users\\susan\\anaconda3\\lib\\site-packages (0.0.1)\n",
      "Requirement already satisfied: beautifulsoup4 in c:\\users\\susan\\anaconda3\\lib\\site-packages (from bs4) (4.6.0)\n"
     ]
    }
   ],
   "source": [
    "#install required packages\n",
    "import sys\n",
    "!{sys.executable} -m pip install pandas\n",
    "!{sys.executable} -m pip install datetime\n",
    "!{sys.executable} -m pip install bs4\n"
   ]
  },
  {
   "cell_type": "code",
   "execution_count": 110,
   "metadata": {},
   "outputs": [
    {
     "data": {
      "image/png": "[encoded data removed]",
      "text/plain": [
       "<Figure size 640x480 with 1 Axes>"
      ]
     },
     "metadata": {},
     "output_type": "display_data"
    }
   ],
   "source": [
    "import csv\n",
    "import pandas as pd\n",
    "import numpy as np\n",
    "import matplotlib.pyplot as plt; plt.rcdefaults()\n",
    "import matplotlib.pyplot as plt\n",
    "\n",
    "df = pd.read_csv('imdb-5000-movies.csv')\n",
    "\n",
    "#create arrays for genre revenues - limited to top 10 genres \n",
    "comedy = []\n",
    "adventure = []\n",
    "action = []\n",
    "drama = []\n",
    "romance = []\n",
    "thriller = []\n",
    "western = []\n",
    "horror = []\n",
    "documentary = []\n",
    "family = []\n",
    "\n",
    "\n",
    "\n",
    "#compiling all revenues for comedy films into an array        \n",
    "for i in range(0,5043):\n",
    "    if \"Comedy\" in df.genres[i]:\n",
    "        if pd.notnull(df.gross[i]):\n",
    "            comedy.append(df.gross[i])\n",
    "            \n",
    "#compiling all revenues for adventure films into an array        \n",
    "for i in range(0,5043):\n",
    "    if \"Adventure\" in df.genres[i]:\n",
    "        if pd.notnull(df.gross[i]):\n",
    "            adventure.append(df.gross[i])\n",
    "            \n",
    "#compiling all revenues for action films into an array        \n",
    "for i in range(0,5043):\n",
    "    if \"Action\" in df.genres[i]:\n",
    "        if pd.notnull(df.gross[i]):\n",
    "            action.append(df.gross[i])\n",
    "            \n",
    "#compiling all revenues for drama films into an array        \n",
    "for i in range(0,5043):\n",
    "    if \"Drama\" in df.genres[i]:\n",
    "        if pd.notnull(df.gross[i]):\n",
    "            drama.append(df.gross[i])\n",
    "\n",
    "#compiling all revenues for romance films into an array        \n",
    "for i in range(0,5043):\n",
    "    if \"Romance\" in df.genres[i]:\n",
    "        if pd.notnull(df.gross[i]):\n",
    "            romance.append(df.gross[i])\n",
    "\n",
    "#compiling all revenues for thriller films into an array        \n",
    "for i in range(0,5043):\n",
    "    if \"Thriller\" in df.genres[i]:\n",
    "        if pd.notnull(df.gross[i]):\n",
    "            thriller.append(df.gross[i])\n",
    "\n",
    "#compiling all revenues for western films into an array        \n",
    "for i in range(0,5043):\n",
    "    if \"Western\" in df.genres[i]:\n",
    "        if pd.notnull(df.gross[i]):\n",
    "            western.append(df.gross[i])\n",
    "\n",
    "#compiling all revenues for horror films into an array        \n",
    "for i in range(0,5043):\n",
    "    if \"Horror\" in df.genres[i]:\n",
    "        if pd.notnull(df.gross[i]):\n",
    "            horror.append(df.gross[i])\n",
    "\n",
    "#compiling all revenues for documentary films into an array        \n",
    "for i in range(0,5043):\n",
    "    if \"Documentary\" in df.genres[i]:\n",
    "        if pd.notnull(df.gross[i]):\n",
    "            documentary.append(df.gross[i])\n",
    "            \n",
    "#compiling all revenues for family films into an array        \n",
    "for i in range(0,5043):\n",
    "    if \"Family\" in df.genres[i]:\n",
    "        if pd.notnull(df.gross[i]):\n",
    "            family.append(df.gross[i])\n",
    "\n",
    "\n",
    "#computing average revenue for each genre\n",
    "comedy_mean = np.mean(comedy)\n",
    "adventure_mean = np.mean(adventure)\n",
    "action_mean = np.mean(action)\n",
    "drama_mean = np.mean(drama)\n",
    "western_mean = np.mean(western)\n",
    "romance_mean = np.mean(romance)\n",
    "thriller_mean = np.mean(thriller)\n",
    "horror_mean = np.mean(horror)\n",
    "documentary_mean = np.mean(documentary)\n",
    "family_mean = np.mean(family)\n",
    "\n",
    "#create bar graphs showing differences in average revenue between 10 genres \n",
    "\n",
    " \n",
    "objects = ('Comedy', 'Adventure', 'Action', 'Drama', 'Western', 'Romance', 'Thriller', 'Horror', 'Documentary', 'Family')\n",
    "y_pos = np.arange(len(objects))\n",
    "revenue = [comedy_mean,adventure_mean,action_mean,drama_mean,western_mean,romance_mean,thriller_mean,horror_mean,documentary_mean,family_mean]\n",
    " \n",
    "plt.barh(y_pos, revenue, align='center', alpha=.5)\n",
    "plt.yticks(y_pos, objects)\n",
    "plt.xlabel('Revenue in Hundred Millions')\n",
    "plt.title('Movie Revenue by Genre')\n",
    " \n",
    "plt.show()\n",
    "\n",
    "        \n",
    "        \n",
    "        \n",
    "    \n",
    "    \n",
    "\n",
    "\n",
    "\n"
   ]
  },
  {
   "cell_type": "code",
   "execution_count": null,
   "metadata": {},
   "outputs": [],
   "source": []
  },
  {
   "cell_type": "code",
   "execution_count": null,
   "metadata": {},
   "outputs": [],
   "source": []
  },
  {
   "cell_type": "code",
   "execution_count": null,
   "metadata": {},
   "outputs": [],
   "source": []
  }
 ],
 "metadata": {
  "kernelspec": {
   "display_name": "Python 3",
   "language": "python",
   "name": "python3"
  },
  "language_info": {
   "codemirror_mode": {
    "name": "ipython",
    "version": 3
   },
   "file_extension": ".py",
   "mimetype": "text/x-python",
   "name": "python",
   "nbconvert_exporter": "python",
   "pygments_lexer": "ipython3",
   "version": "3.6.5"
  }
 },
 "nbformat": 4,
 "nbformat_minor": 2
}
